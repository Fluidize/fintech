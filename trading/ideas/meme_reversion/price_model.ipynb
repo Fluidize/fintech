{
 "cells": [
  {
   "cell_type": "markdown",
   "metadata": {},
   "source": [
    "# **IDEA 1**\n",
    "Liquidity and volatility are often inversely related. We can model volatility as a function of liquidity:\n",
    "$$\n",
    "\\sigma(t) = \\sigma_0 \\cdot f(L_t)\n",
    "$$\n",
    "Where $ L_t $ is a proxy for liquidity, e.g. DEX pool depth or 24h volume. For example:\n",
    "$$\n",
    "f(L_t) = \\frac{1}{\\sqrt{L_t}} \\quad \\text{or} \\quad f(L_t) = e^{-\\alpha L_t}\n",
    "$$\n",
    "\n",
    "Where: \n",
    "- $\\alpha \\gt 0$ representing how sharply liquidity decays.\n",
    "- $L_t$ is the measure of liquidity at time t.\n",
    "\n",
    "The SDE becomes:\n",
    "$$\n",
    "dS_t = \\mu S_t\\, dt + \\sigma(L_t) S_t\\, dW_t\n",
    "$$\n"
   ]
  },
  {
   "cell_type": "markdown",
   "metadata": {},
   "source": [
    "# **IDEA 2**\n",
    "\n",
    "We can also add a mean-reversion pressure due to liquidity drying up:\n",
    "$$\n",
    "dS_t = (\\mu - \\gamma \\cdot \\phi(L_t)) S_t\\, dt + \\sigma S_t\\, dW_t\n",
    "$$\n",
    "Where $ \\gamma $ is a scaling factor and $ \\phi(L_t) = \\frac{1}{L_t} $ could represent the liquidity-driven pull back.\n"
   ]
  },
  {
   "cell_type": "markdown",
   "metadata": {},
   "source": [
    "# **IDEA 3**\n",
    "Alternatively, we can model liquidity-driven jumps using a jump-diffusion process:\n",
    "$$\n",
    "dS_t = \\mu S_t\\, dt + \\sigma S_t\\, dW_t + S_t\\, dJ_t\n",
    "$$\n",
    "Where $ J_t \\sim \\text{Poisson}(\\lambda(L_t)) $, and $ \\lambda(L_t) $ represents the jump intensity, which increases as liquidity decreases.\n"
   ]
  },
  {
   "cell_type": "code",
   "execution_count": null,
   "metadata": {},
   "outputs": [],
   "source": [
    "import numpy as np\n",
    "import matplotlib.pyplot as plt\n",
    "\n",
    "def simulate_price_model(initial_price, drift, volatility, n_steps, time_unit=1):\n",
    "    dt = time_unit / n_steps\n",
    "    N = n_steps * time_unit\n",
    "\n",
    "    S = np.zeros(N)\n",
    "    S[0] = initial_price\n",
    "\n",
    "    volatility_function = np.zeros(N)\n",
    "    volatility_function[0] = volatility\n",
    "\n",
    "    alpha = 1\n",
    "    initial_liquidity = 1000\n",
    "    minimum_volatility = 1e-5\n",
    "    liquidity_growth_per_step = 1 # assume liquidity growth is linear\n",
    "\n",
    "    for i in range(1, N):\n",
    "        liquidity = initial_liquidity + liquidity_growth_per_step * i\n",
    "        volatility_function[i] = (volatility_function[0] - minimum_volatility) * np.exp(-alpha * liquidity) + minimum_volatility #sigma function\n",
    "\n",
    "    for i in range(1, N):\n",
    "        dW = np.random.normal(0, np.sqrt(dt))\n",
    "        S[i] = S[i-1] * np.exp((drift - 0.5 * volatility_function[i]**2) * dt + volatility_function[i] * dW)\n",
    "\n",
    "    return S\n",
    "\n",
    "initial_price = 100\n",
    "drift = 0.00\n",
    "volatility = 0.1\n",
    "n_steps = 1000\n",
    "time_unit = 1\n",
    "\n",
    "prices = simulate_price_model(initial_price, drift, volatility, n_steps, time_unit)\n",
    "\n",
    "plt.plot(prices)\n",
    "plt.show()"
   ]
  },
  {
   "cell_type": "code",
   "execution_count": 188,
   "metadata": {},
   "outputs": [
    {
     "name": "stdout",
     "output_type": "stream",
     "text": [
      "[0.1333447  0.24910762 0.64447237]\n"
     ]
    },
    {
     "data": {
      "text/plain": [
       "[<matplotlib.lines.Line2D at 0x1e8f905cce0>]"
      ]
     },
     "execution_count": 188,
     "metadata": {},
     "output_type": "execute_result"
    },
    {
     "data": {
      "image/png": "[encoded data removed]",
      "text/plain": [
       "<Figure size 640x480 with 1 Axes>"
      ]
     },
     "metadata": {},
     "output_type": "display_data"
    }
   ],
   "source": [
    "def simulate_poisson_bursts(T=1.0, lambda_rate=5, avg_jump_size=10):\n",
    "    N_t = np.random.poisson(lambda_rate * T)  # number of bursts\n",
    "    jump_times = np.sort(np.random.uniform(0, T, N_t))  # when they occur\n",
    "    print(jump_times)\n",
    "    jump_sizes = np.random.exponential(avg_jump_size, N_t)  # how big they are\n",
    "\n",
    "    times = np.linspace(0, T, 1000)\n",
    "    V_t = np.zeros_like(times)\n",
    "\n",
    "    for jt, js in zip(jump_times, jump_sizes):\n",
    "        V_t[times >= jt] += js\n",
    "\n",
    "    return times, V_t\n",
    "\n",
    "t, V = simulate_poisson_bursts()\n",
    "plt.plot(t, V)"
   ]
  }
 ],
 "metadata": {
  "kernelspec": {
   "display_name": "Python 3",
   "language": "python",
   "name": "python3"
  },
  "language_info": {
   "codemirror_mode": {
    "name": "ipython",
    "version": 3
   },
   "file_extension": ".py",
   "mimetype": "text/x-python",
   "name": "python",
   "nbconvert_exporter": "python",
   "pygments_lexer": "ipython3",
   "version": "3.12.9"
  }
 },
 "nbformat": 4,
 "nbformat_minor": 2
}
